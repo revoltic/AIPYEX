{
 "cells": [
  {
   "cell_type": "code",
   "execution_count": 5,
   "metadata": {},
   "outputs": [
    {
     "name": "stdout",
     "output_type": "stream",
     "text": [
      "138.43\n"
     ]
    }
   ],
   "source": [
    "def calHauteur (nbMarches, hMarches):\n",
    "    return round((7 * 5) *( nbMarches * (0.01 *hMarches) ),2)\n",
    "\n",
    "print(calHauteur(35,11.3))"
   ]
  },
  {
   "cell_type": "code",
   "execution_count": 7,
   "metadata": {},
   "outputs": [
    {
     "name": "stdout",
     "output_type": "stream",
     "text": [
      "True False False\n"
     ]
    }
   ],
   "source": [
    "def valide(a):\n",
    "    return a == (\"a\" or \"t\" or \"g\" or \"c\")\n",
    "\n",
    "a=valide('a')\n",
    "b=valide('b')\n",
    "c=valide(1)\n",
    "print(a,b,c)"
   ]
  },
  {
   "cell_type": "code",
   "execution_count": null,
   "metadata": {},
   "outputs": [],
   "source": []
  }
 ],
 "metadata": {
  "kernelspec": {
   "display_name": "Python 3",
   "language": "python",
   "name": "python3"
  },
  "language_info": {
   "codemirror_mode": {
    "name": "ipython",
    "version": 3
   },
   "file_extension": ".py",
   "mimetype": "text/x-python",
   "name": "python",
   "nbconvert_exporter": "python",
   "pygments_lexer": "ipython3",
   "version": "3.8.3"
  }
 },
 "nbformat": 4,
 "nbformat_minor": 4
}
