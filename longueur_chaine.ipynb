{
 "cells": [
  {
   "cell_type": "code",
   "execution_count": 5,
   "metadata": {},
   "outputs": [
    {
     "name": "stdout",
     "output_type": "stream",
     "text": [
      "chaine de charactere sdganjhk4\n",
      "chaine de charactere fs\n",
      "le min est fs\n",
      "le max est sdganjhk4\n"
     ]
    }
   ],
   "source": [
    "a = input(\"chaine de charactere \")\n",
    "b = input(\"chaine de charactere \")\n",
    "print(\"le min est \" + min(a,b))\n",
    "print(\"le max est \" + max(a,b))"
   ]
  }
 ],
 "metadata": {
  "kernelspec": {
   "display_name": "Python 3",
   "language": "python",
   "name": "python3"
  },
  "language_info": {
   "codemirror_mode": {
    "name": "ipython",
    "version": 3
   },
   "file_extension": ".py",
   "mimetype": "text/x-python",
   "name": "python",
   "nbconvert_exporter": "python",
   "pygments_lexer": "ipython3",
   "version": "3.8.3"
  }
 },
 "nbformat": 4,
 "nbformat_minor": 4
}
